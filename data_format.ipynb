{
 "cells": [
  {
   "cell_type": "code",
   "execution_count": 1,
   "metadata": {},
   "outputs": [],
   "source": [
    "import pandas as pd\n",
    "from sqlalchemy import create_engine"
   ]
  },
  {
   "cell_type": "code",
   "execution_count": 5,
   "metadata": {},
   "outputs": [],
   "source": [
    "# Database connection details\n",
    "source_db_config = {\n",
    "    'user': 'root',\n",
    "    'password': '',\n",
    "    'host': 'localhost',\n",
    "    'database': ''\n",
    "}"
   ]
  },
  {
   "cell_type": "code",
   "execution_count": 6,
   "metadata": {},
   "outputs": [],
   "source": [
    "# Connect to source using SQLAlchemy\n",
    "source_engine = create_engine(f\"mysql+pymysql://{source_db_config['user']}:{source_db_config['password']}@{source_db_config['host']}/{source_db_config['database']}\")"
   ]
  },
  {
   "cell_type": "code",
   "execution_count": 7,
   "metadata": {},
   "outputs": [],
   "source": [
    "hiv_query = \"SELECT *,`date` AS hts_date FROM report.hts_register\"\n",
    "hts_register_df = pd.read_sql(hiv_query, source_engine, dtype={\n",
    "        'hts_date' : 'datetime64[ns]',\n",
    "        'already_on_art' : 'bool',\n",
    "        'already_positive' : 'bool',\n",
    "        'client_assisted_self_test' : 'bool',\n",
    "        'client_tested_on_site' : 'bool',\n",
    "        'couple' : 'bool',\n",
    "        'group_education' : 'bool',\n",
    "        'lactating' : 'bool',\n",
    "        'opt' : 'bool',\n",
    "        'post_test_counselling' : 'bool',\n",
    "        'pre_test_counselling' : 'bool',\n",
    "        'pregnant' : 'bool',\n",
    "        'results_issued' : 'bool',\n",
    "        'retest' : 'bool',\n",
    "        'time' : 'datetime64[ns]'\n",
    "        })"
   ]
  },
  {
   "cell_type": "code",
   "execution_count": 10,
   "metadata": {},
   "outputs": [],
   "source": [
    "hts_register_df['hts_date'] = pd.to_datetime(hts_register_df['hts_date']).dt.date"
   ]
  },
  {
   "cell_type": "code",
   "execution_count": 11,
   "metadata": {},
   "outputs": [
    {
     "name": "stdout",
     "output_type": "stream",
     "text": [
      "<class 'pandas.core.frame.DataFrame'>\n",
      "RangeIndex: 849 entries, 0 to 848\n",
      "Data columns (total 44 columns):\n",
      " #   Column                          Non-Null Count  Dtype         \n",
      "---  ------                          --------------  -----         \n",
      " 0   hts_id                          849 non-null    object        \n",
      " 1   site_id                         849 non-null    object        \n",
      " 2   already_on_art                  849 non-null    bool          \n",
      " 3   already_positive                849 non-null    bool          \n",
      " 4   approach                        843 non-null    object        \n",
      " 5   client_assisted_self_test       849 non-null    bool          \n",
      " 6   client_profile                  843 non-null    object        \n",
      " 7   client_tested_on_site           849 non-null    bool          \n",
      " 8   couple                          849 non-null    bool          \n",
      " 9   date                            849 non-null    object        \n",
      " 10  group_education                 849 non-null    bool          \n",
      " 11  htc_model                       843 non-null    object        \n",
      " 12  hts_model_sub_type              843 non-null    object        \n",
      " 13  lactating                       849 non-null    bool          \n",
      " 14  opt                             849 non-null    bool          \n",
      " 15  patient_id                      849 non-null    object        \n",
      " 16  person_id                       849 non-null    object        \n",
      " 17  post_test_counselling           849 non-null    bool          \n",
      " 18  pre_test_counselling            849 non-null    bool          \n",
      " 19  pregnancytest                   843 non-null    object        \n",
      " 20  pregnant                        849 non-null    bool          \n",
      " 21  rbf_number                      0 non-null      object        \n",
      " 22  reason_for_not_initiating_art   2 non-null      object        \n",
      " 23  reason_for_not_issuing_result   672 non-null    object        \n",
      " 24  reason_for_not_performing_test  9 non-null      object        \n",
      " 25  refered_service                 849 non-null    object        \n",
      " 26  result                          776 non-null    object        \n",
      " 27  results_issued                  849 non-null    bool          \n",
      " 28  retest                          849 non-null    bool          \n",
      " 29  test_purpose                    843 non-null    object        \n",
      " 30  test_type                       839 non-null    object        \n",
      " 31  time                            849 non-null    datetime64[ns]\n",
      " 32  partner_person_id               38 non-null     object        \n",
      " 33  laboratory_investigation_id     849 non-null    object        \n",
      " 34  linkages                        16 non-null     object        \n",
      " 35  consent_to_index_testing        373 non-null    object        \n",
      " 36  hts_number                      407 non-null    object        \n",
      " 37  is_index_contact                405 non-null    object        \n",
      " 38  logged_in_user                  407 non-null    object        \n",
      " 39  care_giver_result_date          0 non-null      object        \n",
      " 40  client_disclosed_result         0 non-null      object        \n",
      " 41  note                            0 non-null      object        \n",
      " 42  test_kit_distributor            0 non-null      object        \n",
      " 43  hts_date                        849 non-null    object        \n",
      "dtypes: bool(13), datetime64[ns](1), object(30)\n",
      "memory usage: 216.5+ KB\n"
     ]
    }
   ],
   "source": [
    "hts_register_df.info()"
   ]
  },
  {
   "cell_type": "code",
   "execution_count": 12,
   "metadata": {},
   "outputs": [],
   "source": [
    "mysql_data_types = {\n",
    "        'int64': 'INT',\n",
    "        'float64': 'FLOAT',\n",
    "        'bool': 'TINYINT(1)',  # Assuming boolean values\n",
    "        'category': 'VARCHAR(255)',  # Assuming category type is stored as string\n",
    "        'object': 'VARCHAR(255)',\n",
    "        'datetime64[ns]': 'DATETIME',  # Changed from DATE to DATETIME to accommodate time as well\n",
    "        'date': 'DATE',  # Explicitly mapping pandas date type to MySQL DATE type\n",
    "        'timedelta64[ns]': 'TIME',  # Handling timedelta for time-only fields\n",
    "        'str': 'VARCHAR(255)',  # Added explicit mapping for string type\n",
    "        'np.datetime64': 'DATETIME',  # Explicitly handling numpy datetime objects\n",
    "        'np.timedelta64': 'TIME'  # Explicitly handling numpy timedelta objects\n",
    "    }"
   ]
  },
  {
   "cell_type": "code",
   "execution_count": 13,
   "metadata": {},
   "outputs": [],
   "source": [
    "columns = \", \".join([f\"{col} {mysql_data_types[str(hts_register_df[col].dtype)]}\" for col in hts_register_df.columns])"
   ]
  },
  {
   "cell_type": "code",
   "execution_count": 14,
   "metadata": {},
   "outputs": [
    {
     "data": {
      "text/plain": [
       "'hts_id VARCHAR(255), site_id VARCHAR(255), already_on_art TINYINT(1), already_positive TINYINT(1), approach VARCHAR(255), client_assisted_self_test TINYINT(1), client_profile VARCHAR(255), client_tested_on_site TINYINT(1), couple TINYINT(1), date VARCHAR(255), group_education TINYINT(1), htc_model VARCHAR(255), hts_model_sub_type VARCHAR(255), lactating TINYINT(1), opt TINYINT(1), patient_id VARCHAR(255), person_id VARCHAR(255), post_test_counselling TINYINT(1), pre_test_counselling TINYINT(1), pregnancytest VARCHAR(255), pregnant TINYINT(1), rbf_number VARCHAR(255), reason_for_not_initiating_art VARCHAR(255), reason_for_not_issuing_result VARCHAR(255), reason_for_not_performing_test VARCHAR(255), refered_service VARCHAR(255), result VARCHAR(255), results_issued TINYINT(1), retest TINYINT(1), test_purpose VARCHAR(255), test_type VARCHAR(255), time DATETIME, partner_person_id VARCHAR(255), laboratory_investigation_id VARCHAR(255), linkages VARCHAR(255), consent_to_index_testing VARCHAR(255), hts_number VARCHAR(255), is_index_contact VARCHAR(255), logged_in_user VARCHAR(255), care_giver_result_date VARCHAR(255), client_disclosed_result VARCHAR(255), note VARCHAR(255), test_kit_distributor VARCHAR(255), hts_date VARCHAR(255)'"
      ]
     },
     "execution_count": 14,
     "metadata": {},
     "output_type": "execute_result"
    }
   ],
   "source": [
    "columns"
   ]
  },
  {
   "cell_type": "code",
   "execution_count": null,
   "metadata": {},
   "outputs": [],
   "source": []
  }
 ],
 "metadata": {
  "kernelspec": {
   "display_name": "Python 3",
   "language": "python",
   "name": "python3"
  },
  "language_info": {
   "codemirror_mode": {
    "name": "ipython",
    "version": 3
   },
   "file_extension": ".py",
   "mimetype": "text/x-python",
   "name": "python",
   "nbconvert_exporter": "python",
   "pygments_lexer": "ipython3",
   "version": "3.10.12"
  }
 },
 "nbformat": 4,
 "nbformat_minor": 2
}
