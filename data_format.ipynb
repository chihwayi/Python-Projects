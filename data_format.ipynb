{
 "cells": [
  {
   "cell_type": "code",
   "execution_count": 8,
   "metadata": {},
   "outputs": [],
   "source": [
    "import pandas as pd\n",
    "from sqlalchemy import create_engine"
   ]
  },
  {
   "cell_type": "code",
   "execution_count": 7,
   "metadata": {},
   "outputs": [],
   "source": [
    "# Database connection details\n",
    "source_db_config = {\n",
    "    'user': 'root',\n",
    "    'password': '',\n",
    "    'host': 'localhost',\n",
    "    'database': ''\n",
    "}"
   ]
  },
  {
   "cell_type": "code",
   "execution_count": 13,
   "metadata": {},
   "outputs": [],
   "source": [
    "# Connect to source using SQLAlchemy\n",
    "source_engine = create_engine(f\"mysql+pymysql://{source_db_config['user']}:{source_db_config['password']}@{source_db_config['host']}/{source_db_config['database']}\")"
   ]
  },
  {
   "cell_type": "code",
   "execution_count": 15,
   "metadata": {},
   "outputs": [],
   "source": [
    "hiv_query = \"SELECT * FROM report.investigation_register\""
   ]
  },
  {
   "cell_type": "code",
   "execution_count": 18,
   "metadata": {},
   "outputs": [],
   "source": [
    "#hts_register_df['hts_date'] = pd.to_datetime(hts_register_df['hts_date']).dt.date\n",
    "hiv_df = pd.read_sql(hiv_query, source_engine)"
   ]
  },
  {
   "cell_type": "code",
   "execution_count": 19,
   "metadata": {},
   "outputs": [
    {
     "name": "stdout",
     "output_type": "stream",
     "text": [
      "<class 'pandas.core.frame.DataFrame'>\n",
      "RangeIndex: 2188 entries, 0 to 2187\n",
      "Data columns (total 21 columns):\n",
      " #   Column                       Non-Null Count  Dtype \n",
      "---  ------                       --------------  ----- \n",
      " 0   laboratory_investigation_id  2188 non-null   object\n",
      " 1   date                         2188 non-null   object\n",
      " 2   investigation_id             2188 non-null   object\n",
      " 3   investigation_type           2188 non-null   object\n",
      " 4   month                        2188 non-null   int64 \n",
      " 5   note                         0 non-null      object\n",
      " 6   patient_id                   1910 non-null   object\n",
      " 7   person_id                    2188 non-null   object\n",
      " 8   result                       2061 non-null   object\n",
      " 9   result_date                  24 non-null     object\n",
      " 10  result_issued                24 non-null     object\n",
      " 11  sample_id                    2188 non-null   object\n",
      " 12  sample                       2188 non-null   object\n",
      " 13  site_id                      1960 non-null   object\n",
      " 14  status                       48 non-null     object\n",
      " 15  test_id                      2188 non-null   object\n",
      " 16  test                         2188 non-null   object\n",
      " 17  year                         2188 non-null   int64 \n",
      " 18  date_result_issued           16 non-null     object\n",
      " 19  facility_id                  0 non-null      object\n",
      " 20  facility_name                0 non-null      object\n",
      "dtypes: int64(2), object(19)\n",
      "memory usage: 359.1+ KB\n"
     ]
    }
   ],
   "source": [
    "hiv_df.info()"
   ]
  },
  {
   "cell_type": "code",
   "execution_count": 12,
   "metadata": {},
   "outputs": [],
   "source": [
    "mysql_data_types = {\n",
    "        'int64': 'INT',\n",
    "        'float64': 'FLOAT',\n",
    "        'bool': 'TINYINT(1)',  # Assuming boolean values\n",
    "        'category': 'VARCHAR(255)',  # Assuming category type is stored as string\n",
    "        'object': 'VARCHAR(255)',\n",
    "        'datetime64[ns]': 'DATETIME',  # Changed from DATE to DATETIME to accommodate time as well\n",
    "        'date': 'DATE',  # Explicitly mapping pandas date type to MySQL DATE type\n",
    "        'timedelta64[ns]': 'TIME',  # Handling timedelta for time-only fields\n",
    "        'str': 'VARCHAR(255)',  # Added explicit mapping for string type\n",
    "        'np.datetime64': 'DATETIME',  # Explicitly handling numpy datetime objects\n",
    "        'np.timedelta64': 'TIME'  # Explicitly handling numpy timedelta objects\n",
    "    }"
   ]
  },
  {
   "cell_type": "code",
   "execution_count": 13,
   "metadata": {},
   "outputs": [],
   "source": [
    "columns = \", \".join([f\"{col} {mysql_data_types[str(hts_register_df[col].dtype)]}\" for col in hts_register_df.columns])"
   ]
  },
  {
   "cell_type": "code",
   "execution_count": 14,
   "metadata": {},
   "outputs": [
    {
     "data": {
      "text/plain": [
       "'hts_id VARCHAR(255), site_id VARCHAR(255), already_on_art TINYINT(1), already_positive TINYINT(1), approach VARCHAR(255), client_assisted_self_test TINYINT(1), client_profile VARCHAR(255), client_tested_on_site TINYINT(1), couple TINYINT(1), date VARCHAR(255), group_education TINYINT(1), htc_model VARCHAR(255), hts_model_sub_type VARCHAR(255), lactating TINYINT(1), opt TINYINT(1), patient_id VARCHAR(255), person_id VARCHAR(255), post_test_counselling TINYINT(1), pre_test_counselling TINYINT(1), pregnancytest VARCHAR(255), pregnant TINYINT(1), rbf_number VARCHAR(255), reason_for_not_initiating_art VARCHAR(255), reason_for_not_issuing_result VARCHAR(255), reason_for_not_performing_test VARCHAR(255), refered_service VARCHAR(255), result VARCHAR(255), results_issued TINYINT(1), retest TINYINT(1), test_purpose VARCHAR(255), test_type VARCHAR(255), time DATETIME, partner_person_id VARCHAR(255), laboratory_investigation_id VARCHAR(255), linkages VARCHAR(255), consent_to_index_testing VARCHAR(255), hts_number VARCHAR(255), is_index_contact VARCHAR(255), logged_in_user VARCHAR(255), care_giver_result_date VARCHAR(255), client_disclosed_result VARCHAR(255), note VARCHAR(255), test_kit_distributor VARCHAR(255), hts_date VARCHAR(255)'"
      ]
     },
     "execution_count": 14,
     "metadata": {},
     "output_type": "execute_result"
    }
   ],
   "source": [
    "columns"
   ]
  },
  {
   "cell_type": "code",
   "execution_count": null,
   "metadata": {},
   "outputs": [],
   "source": []
  }
 ],
 "metadata": {
  "kernelspec": {
   "display_name": ".venv",
   "language": "python",
   "name": "python3"
  },
  "language_info": {
   "codemirror_mode": {
    "name": "ipython",
    "version": 3
   },
   "file_extension": ".py",
   "mimetype": "text/x-python",
   "name": "python",
   "nbconvert_exporter": "python",
   "pygments_lexer": "ipython3",
   "version": "3.12.3"
  }
 },
 "nbformat": 4,
 "nbformat_minor": 2
}
